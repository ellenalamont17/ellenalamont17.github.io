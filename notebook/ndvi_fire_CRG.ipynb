{
 "cells": [
  {
   "cell_type": "markdown",
   "metadata": {},
   "source": [
    "## The 2017 Eagle Creek Fire near Hood River, Oregon covered more than 48,000 acres and devastated more than half of the Oregon side of the Columbia River Gorge.\n",
    "\n",
    "![3D extent of Eagle Creek Fire](https://wildfiretoday.com/wp-content/uploads/2017/09/EagleCr_3D2_730pmPDT_9-5-2017.jpg)\n",
    "\n",
    "Image Source: [Wildfire Today](https://wildfiretoday.com/wp-content/uploads/2017/09/EagleCr_3D2_730pmPDT_9-5-2017.jpg)\n",
    "\n",
    "![Mountains on Fire](https://advancelocal-adapter-image-uploads.s3.amazonaws.com/image.oregonlive.com/home/olive-media/width2048/img/wildfires/photo/eagle-creek-fire-f163f5cfde990cb7.jpg)\n",
    "\n",
    "Image Source: [Oregon Live](https://advancelocal-adapter-image-uploads.s3.amazonaws.com/image.oregonlive.com/home/olive-media/width2048/img/wildfires/photo/eagle-creek-fire-f163f5cfde990cb7.jpg)"
   ]
  },
  {
   "cell_type": "markdown",
   "metadata": {},
   "source": [
    "On a hot and windy fall afternoon on September 2, 2017, two young teens wrecklessly playing with fireworks ignited one of the largest wildfires in northern Oregon's history, descimating near half of the Columbia River Gorge, a famous outdoor recreation area and critical transportation corridor (trains, trucks, and boats).\n",
    "\n",
    "As the fire quickly grew, 152 hikers were trapped by the flames and eventually rescued while the nearby town of Cascade Locks was evacuated. 2.5 days after ignition, the fire had grown to 10,000 acres and traveled nearly 13 miles in approximately 16 hours, fueled by strong winds. By this time, Interstate 84 has been shutdown and the fire jumped an incredible ~1800 ft across the Columbia River and spread into parts of Washington. Through the blaze, nearly 400 homes were evacuated, hundreds of miles of trail and roadway infracture were destroyed, and historic landmarks, such a [Multinomah Falls](https://www.fs.usda.gov/recarea/crgnsa/recarea/?recid=30026), closely threatened.\n",
    "\n",
    "The fire was finally contained at the end of November, nearly two months after it started, but continued to smoulder for another 9-months. A total of 48,000 acres burned in the Eagle Creek Fire. While residents were eventually able to return home, the Eagle Creek Trail system remained closed for three years and remains a visible scar on the landscape today. Massive efforts were put into clearing dangerous trees, installing protective fensing, and monitoring for landslide and debris flows. The teen responsible for the fire was sentenced to 1,920 hours of community service with the Forest Service. If this service is not compled in 10 years, the teen will have to pay $36.6 million in restitution."
   ]
  },
  {
   "cell_type": "markdown",
   "metadata": {},
   "source": [
    "### **2017 Eagle Creek Fire Boundary**"
   ]
  },
  {
   "cell_type": "code",
   "execution_count": null,
   "metadata": {},
   "outputs": [],
   "source": [
    "# Import standard libraries\n",
    "import logging              # Logging of messages\n",
    "import os                   # Handles files and directories\n",
    "import pathlib              # Provides a path class for cross platform use\n",
    "import subprocess           # Run new code by creating new process\n",
    "import warnings             # Show warning triggered by module import\n",
    "from glob import glob       # Creates lists of files for batch processing\n",
    "\n",
    "# Import third party libraries\n",
    "import earthpy.appeears as etapp    # Plot and manipulate spatial data\n",
    "import folium               # Generate interactive maps\n",
    "import geopandas as gpd     # Work with vector files\n",
    "import hvplot.pandas        # Used for plotting data\n",
    "import hvplot.xarray        # Used for plotting maps\n",
    "import numpy as np          # Used for math operations\n",
    "import pandas as pd         # Used for working with tabular data\n",
    "import rioxarray as rxr     # Storage and manipulation of rasters\n",
    "import xarray as xr         # Work with multidimensional arrays\n",
    "\n",
    "# Set up logging so AppeearsDownloader will log in notebook\n",
    "logging.basicConfig(level=logging.INFO)\n",
    "\n",
    "# Ignore FutureWarning coming from hvplot\n",
    "#warnings.simplefilter(action='ignore', category=FutureWarning)"
   ]
  },
  {
   "cell_type": "code",
   "execution_count": null,
   "metadata": {},
   "outputs": [],
   "source": [
    "# Define/create a directory to store and access data\n",
    "\n",
    "eagle_prj_dir = os.path.join(\n",
    "    pathlib.Path.home(), 'earth-analytics', 'data', 'camp-fire')\n",
    "# This defines where the directory can be found\n",
    "\n",
    "os.makedirs(eagle_prj_dir, exist_ok=True)\n",
    "# This is an instruction to create the directory defined above\n",
    "\n",
    "eagle_prj_dir\n",
    "# This prints out the directory path name"
   ]
  },
  {
   "cell_type": "markdown",
   "metadata": {},
   "source": [
    "The API Site for the 2017 Historical Fire Perimeters from the National Interagency Fire Center (NIFC) can be found at:\n",
    "\n",
    "https://data-nifc.opendata.arcgis.com/datasets/historic-perimeters-2017/api"
   ]
  },
  {
   "cell_type": "code",
   "execution_count": null,
   "metadata": {},
   "outputs": [],
   "source": [
    "# Access the data from NIFC website\n",
    "eagle_gdf=gpd.read_file(\n",
    "    \"https://services3.arcgis.com/T4QMspbfLg3qTGWY/arcgis\"\n",
    "    \"/rest/services/Historic_Geomac_Perimeters_2017\"\n",
    "    \"/FeatureServer/0/query?where=incidentname%20%3D%20\"\n",
    "    \"'EAGLE%20CREEK'%20AND%20latest%20%3D%20'Y'&outFields=\"\n",
    "    \"*&outSR=4326&f=json\"\n",
    ")\n",
    "\n",
    "eagle_gdf"
   ]
  },
  {
   "cell_type": "code",
   "execution_count": null,
   "metadata": {},
   "outputs": [],
   "source": [
    "# Location of Cascade Locks, OR \n",
    "# Citation: https://latitude.to/articles-by-country/us/united-states\n",
    "# /44009/cascade-locks-oregon\n",
    "casloc_lat = 45.6698\n",
    "casloc_lon = -121.8906\n",
    "\n",
    "# Create folium map of the Eagle Creek Fire boundary, Cascade Locks, OR\n",
    "m = folium.Map(\n",
    "    location = (casloc_lat, casloc_lon),        # Location to center display\n",
    "    zoom_start = 10,                            # Set initial zoom level\n",
    "    tiles = \"Stamen Terrain\",                   # Select basemap to use\n",
    "    scrollWheelZoom=False                       # Turn off zoom while scrolling\n",
    ")\n",
    "\n",
    "# Put a marker at the city location\n",
    "folium.Marker([casloc_lat, casloc_lon], popup=\"Cascade Locks, OR\"\n",
    ").add_to(m)\n",
    "\n",
    "# Convert the GeoDataFrame to GeoJSON format\n",
    "eagle_geojson = eagle_gdf.to_json()\n",
    "\n",
    "# Creat a style for the GeoJSON output\n",
    "eagle_json_style = {\n",
    "        \"fillColor\":\"red\",\n",
    "        \"color\":\"black\",\n",
    "        \"weight\": 2,\n",
    "        \"dashArray\": \"5, 5\",\n",
    "}\n",
    "\n",
    "# Add the GeoJSON data to the map as a GeoJSON layer\n",
    "folium.GeoJson(\n",
    "    eagle_geojson,\n",
    "    style_function=lambda feature: eagle_json_style\n",
    ").add_to(m)\n",
    "\n",
    "# Display the map\n",
    "m"
   ]
  },
  {
   "cell_type": "markdown",
   "metadata": {},
   "source": [
    "Location map showing the total burn area of the 2017 Eagle Creek Fire in the Columbia River Gorge near Cascade Locks, Oregon"
   ]
  },
  {
   "cell_type": "markdown",
   "metadata": {},
   "source": [
    "### **Assessing Vegetative Health using AQUA-MODIS-NDVI"
   ]
  },
  {
   "cell_type": "code",
   "execution_count": null,
   "metadata": {},
   "outputs": [],
   "source": []
  }
 ],
 "metadata": {
  "kernelspec": {
   "display_name": "base",
   "language": "python",
   "name": "python3"
  },
  "language_info": {
   "codemirror_mode": {
    "name": "ipython",
    "version": 3
   },
   "file_extension": ".py",
   "mimetype": "text/x-python",
   "name": "python",
   "nbconvert_exporter": "python",
   "pygments_lexer": "ipython3",
   "version": "3.10.11"
  },
  "orig_nbformat": 4
 },
 "nbformat": 4,
 "nbformat_minor": 2
}
