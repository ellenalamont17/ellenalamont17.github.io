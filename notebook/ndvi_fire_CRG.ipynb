{
 "cells": [
  {
   "cell_type": "markdown",
   "metadata": {},
   "source": [
    "## The 2017 Eagle Creek Fire near Hood River, Oregon covered more than 48,000 acres and devastated more than half of the Oregon side of the Columbia River Gorge.\n",
    "\n",
    "![3D extent of Eagle Creek Fire](https://wildfiretoday.com/wp-content/uploads/2017/09/EagleCr_3D2_730pmPDT_9-5-2017.jpg)\n",
    "\n",
    "Image Source: [Wildfire Today](https://wildfiretoday.com/wp-content/uploads/2017/09/EagleCr_3D2_730pmPDT_9-5-2017.jpg)\n",
    "\n",
    "![Mountains on Fire](https://advancelocal-adapter-image-uploads.s3.amazonaws.com/image.oregonlive.com/home/olive-media/width2048/img/wildfires/photo/eagle-creek-fire-f163f5cfde990cb7.jpg)\n",
    "\n",
    "Image Source: [Oregon Live](https://advancelocal-adapter-image-uploads.s3.amazonaws.com/image.oregonlive.com/home/olive-media/width2048/img/wildfires/photo/eagle-creek-fire-f163f5cfde990cb7.jpg)"
   ]
  },
  {
   "cell_type": "markdown",
   "metadata": {},
   "source": [
    "On a hot and windy fall afternoon on September 2, 2017, two young teens wrecklessly playing with fireworks ignited one of the largest wildfires in northern Oregon's history, descimating near half of the Columbia River Gorge, a famous outdoor recreation area and critical transportation corridor (trains, trucks, and boats).\n",
    "\n",
    "As the fire quickly grew, 152 hikers were trapped by the flames and eventually rescued while the nearby town of Cascade Locks was evacuated. 2.5 days after ignition, the fire had grown to 10,000 acres and traveled nearly 13 miles in approximately 16 hours, fueled by strong winds. By this time, Interstate 84 has been shutdown and the fire jumped an incredible ~1800 ft across the Columbia River and spread into parts of Washington. Through the blaze, nearly 400 homes were evacuated, hundreds of miles of trail and roadway infracture were destroyed, and historic landmarks, such a [Multinomah Falls](https://www.fs.usda.gov/recarea/crgnsa/recarea/?recid=30026), closely threatened.\n",
    "\n",
    "The fire was finally contained at the end of November, nearly two months after it started, but continued to smoulder for another 9-months. A total of 48,000 acres burned in the Eagle Creek Fire. While residents were eventually able to return home, the Eagle Creek Trail system remained closed for three years and remains a visible scar on the landscape today. Massive efforts were put into clearing dangerous trees, installing protective fensing, and monitoring for landslide and debris flows. The teen responsible for the fire was sentenced to 1,920 hours of community service with the Forest Service. If this service is not compled in 10 years, the teen will have to pay $36.6 million in restitution."
   ]
  },
  {
   "cell_type": "markdown",
   "metadata": {},
   "source": [
    "### **2017 Eagle Creek Fire Boundary**"
   ]
  },
  {
   "cell_type": "code",
   "execution_count": null,
   "metadata": {},
   "outputs": [],
   "source": [
    "# Import standard libraries\n",
    "import logging              # Logging of messages\n",
    "import os                   # Handles files and directories\n",
    "import pathlib              # Provides a path class for cross platform use\n",
    "import subprocess           # Run new code by creating new process\n",
    "import warnings             # Show warning triggered by module import\n",
    "from glob import glob       # Creates lists of files for batch processing\n",
    "\n",
    "# Import third party libraries\n",
    "import earthpy.appeears as etapp    # Plot and manipulate spatial data\n",
    "import folium               # Generate interactive maps\n",
    "import geopandas as gpd     # Work with vector files\n",
    "import hvplot.pandas        # Used for plotting data\n",
    "import hvplot.xarray        # Used for plotting maps\n",
    "import numpy as np          # Used for math operations\n",
    "import pandas as pd         # Used for working with tabular data\n",
    "import rioxarray as rxr     # Storage and manipulation of rasters\n",
    "import xarray as xr         # Work with multidimensional arrays\n",
    "\n",
    "# Set up logging so AppeearsDownloader will log in notebook\n",
    "logging.basicConfig(level=logging.INFO)\n",
    "\n",
    "# Ignore FutureWarning coming from hvplot\n",
    "#warnings.simplefilter(action='ignore', category=FutureWarning)"
   ]
  },
  {
   "cell_type": "code",
   "execution_count": null,
   "metadata": {},
   "outputs": [],
   "source": [
    "# Define/create a directory to store and access data\n",
    "\n",
    "eagle_prj_dir = os.path.join(\n",
    "    pathlib.Path.home(), 'earth-analytics', 'data', 'camp-fire')\n",
    "# This defines where the directory can be found\n",
    "\n",
    "os.makedirs(eagle_prj_dir, exist_ok=True)\n",
    "# This is an instruction to create the directory defined above\n",
    "\n",
    "eagle_prj_dir\n",
    "# This prints out the directory path name"
   ]
  },
  {
   "cell_type": "markdown",
   "metadata": {},
   "source": [
    "The API Site for the 2017 Historical Fire Perimeters from the National Interagency Fire Center (NIFC) can be found at:\n",
    "\n",
    "https://data-nifc.opendata.arcgis.com/datasets/historic-perimeters-2017/api"
   ]
  },
  {
   "cell_type": "code",
   "execution_count": null,
   "metadata": {},
   "outputs": [],
   "source": [
    "# Access the data from NIFC website\n",
    "eagle_gdf=gpd.read_file(\n",
    "    \"https://services3.arcgis.com/T4QMspbfLg3qTGWY/arcgis\"\n",
    "    \"/rest/services/Historic_Geomac_Perimeters_2017\"\n",
    "    \"/FeatureServer/0/query?where=incidentname%20%3D%20\"\n",
    "    \"'EAGLE%20CREEK'%20AND%20latest%20%3D%20'Y'&outFields=\"\n",
    "    \"*&outSR=4326&f=json\"\n",
    ")\n",
    "\n",
    "eagle_gdf"
   ]
  },
  {
   "cell_type": "code",
   "execution_count": null,
   "metadata": {},
   "outputs": [],
   "source": [
    "# Location of Cascade Locks, OR \n",
    "# Citation: https://latitude.to/articles-by-country/us/united-states\n",
    "# /44009/cascade-locks-oregon\n",
    "casloc_lat = 45.6698\n",
    "casloc_lon = -121.8906\n",
    "\n",
    "# Create folium map of the Eagle Creek Fire boundary, Cascade Locks, OR\n",
    "m = folium.Map(\n",
    "    location = (casloc_lat, casloc_lon),        # Location to center display\n",
    "    zoom_start = 10,                            # Set initial zoom level\n",
    "    tiles = \"Stamen Terrain\",                   # Select basemap to use\n",
    "    scrollWheelZoom=False                       # Turn off zoom while scrolling\n",
    ")\n",
    "\n",
    "# Put a marker at the city location\n",
    "folium.Marker([casloc_lat, casloc_lon], popup=\"Cascade Locks, OR\"\n",
    ").add_to(m)\n",
    "\n",
    "# Convert the GeoDataFrame to GeoJSON format\n",
    "eagle_geojson = eagle_gdf.to_json()\n",
    "\n",
    "# Creat a style for the GeoJSON output\n",
    "eagle_json_style = {\n",
    "        \"fillColor\":\"red\",\n",
    "        \"color\":\"black\",\n",
    "        \"weight\": 2,\n",
    "        \"dashArray\": \"5, 5\",\n",
    "}\n",
    "\n",
    "# Add the GeoJSON data to the map as a GeoJSON layer\n",
    "folium.GeoJson(\n",
    "    eagle_geojson,\n",
    "    style_function=lambda feature: eagle_json_style\n",
    ").add_to(m)\n",
    "\n",
    "# Display the map\n",
    "m"
   ]
  },
  {
   "cell_type": "markdown",
   "metadata": {},
   "source": [
    "Location map showing the total burn area of the 2017 Eagle Creek Fire in the Columbia River Gorge near Cascade Locks, Oregon"
   ]
  },
  {
   "cell_type": "markdown",
   "metadata": {},
   "source": [
    "### **Assessing Vegetative Health using AQUA-MODIS-NDVI**"
   ]
  },
  {
   "cell_type": "markdown",
   "metadata": {},
   "source": [
    "### Data Description:\n",
    "\n",
    "Data for this analysis come from NASA's Application for Extracting and Exploring Analysis Ready Samples [AppEEARS](https://appeears.earthdatacloud.nasa.gov/) API portal. The selected layers are 250m 16-day NDVI values [(MYD13Q1.061)](https://lpdaac.usgs.gov/products/myd13q1v061/) taken for a three month interval covering peak summer vegetation (June 1 - August 31) for 2015-2020.\n",
    "\n",
    "The data are a product of the AQUA MODIS satellite and sensor and contain normalized difference vegetation indices (NDVI). NDVI indices are useful for assessing \"greenness\" or vegetation health in a landscape. These quantitative indices are derived from the measure of light reflection and absorbance across multiple spectral bands which vary with vegetative health."
   ]
  },
  {
   "cell_type": "code",
   "execution_count": null,
   "metadata": {},
   "outputs": [],
   "source": [
    "# Download the NDVI data from NASA Appeears API\n",
    "# Using data from Aqua MODIS https://appeears.earthdatacloud.nasa.gov/products\n",
    "ndvi_downloader = etapp.AppeearsDownloader(\n",
    "    download_key='modis-ndvi',          # Dataset name\n",
    "    ea_dir=eagle_prj_dir,               # Name of project directory\n",
    "    product='MYD13Q1.061',              # Product name from Aqua MODIS\n",
    "    layer='_250m_16_days_NDVI',         # High resolution layer of interest\n",
    "    start_date='06-01',                 # Recurring date - peak green start\n",
    "    end_date='08-31',                   # Recurring date - peak green end\n",
    "    recurring=True,                     # Indicates a recurring date used\n",
    "    year_range=[2015,2020],             # Range of years to be extracted [list]\n",
    "    polygon=eagle_gdf                   # Bounadry of the CAMP fire\n",
    ")\n",
    "\n",
    "# Download files if the download directory does not exist\n",
    "if not os.path.exists(ndvi_downloader.data_dir):\n",
    "    ndvi_downloader.download_files()\n",
    "\n",
    "ndvi_downloader"
   ]
  },
  {
   "cell_type": "code",
   "execution_count": null,
   "metadata": {},
   "outputs": [],
   "source": [
    "# Load all downloaded data files\n",
    "ndvi_path_list = glob(os.path.join(\n",
    "    ndvi_downloader.data_dir, '*', '*NDVI*.tif'))\n",
    "\n",
    "# In the active directory, go in one folder level '*' then\n",
    "# sort through the files, searching for files wiht NDVI\n",
    "\n",
    "ndvi_path_list"
   ]
  },
  {
   "cell_type": "code",
   "execution_count": null,
   "metadata": {},
   "outputs": [],
   "source": [
    "# Define variables\n",
    "day_of_yr_start = -19           # start of the date in the name string\n",
    "day_of_yr_end = -12             # End of the date in the name string\n",
    "scale_factor = 10000            # NDVI between 1 and -1\n",
    "\n",
    "# Import data from all NDVI files\n",
    "ndvi_da_list = []\n",
    "for ndvi_path in ndvi_path_list:\n",
    "    # Get date from file name\n",
    "    day_of_yr = ndvi_path[day_of_yr_start:day_of_yr_end] # Filename indices\n",
    "    date = pd.to_datetime(day_of_yr, format='%Y%j')      # Date formatting\n",
    "\n",
    "    # Open dataset - opens tiff file as a rioxarray (gridded data with coords)\n",
    "    # Import no data as NAN. Squeeze data to remove extra dimension\n",
    "    da = rxr.open_rasterio(ndvi_path, masked=True).squeeze()\n",
    "\n",
    "    # Prepare to concatenate: Add date dimension and clean up metadata\n",
    "    da = da.assign_coords({'date': date})               # Add date as coord\n",
    "    da = da.expand_dims({'date': 1})                    # Add date as dimension\n",
    "    da.name = 'NDVI'\n",
    "\n",
    "    # Divide by scale factor\n",
    "    da = da / scale_factor\n",
    "\n",
    "    # Add the DataArray to the end of the accumulator list\n",
    "    ndvi_da_list.append(da)\n",
    "\n",
    "ndvi_da_list"
   ]
  },
  {
   "cell_type": "code",
   "execution_count": null,
   "metadata": {},
   "outputs": [],
   "source": [
    "# Stack arrays by date into a time series\n",
    "ndvi_ds = xr.combine_by_coords(ndvi_da_list, coords=['date'])\n",
    "ndvi_ds"
   ]
  },
  {
   "cell_type": "markdown",
   "metadata": {},
   "source": [
    "### Map showing change in NDVI values 2018-2016"
   ]
  },
  {
   "cell_type": "code",
   "execution_count": null,
   "metadata": {},
   "outputs": [],
   "source": [
    "# Plot mean NDVI for 2018 spatially (rioxarray method)\n",
    "ndvi_2018 = (ndvi_ds\n",
    " .sel(date='2018')                      # Specify  period of time to subset\n",
    " .mean('date')                          # Calculate mean NDVI\n",
    ")\n",
    "\n",
    "# Plot mean NDVI for 2016 spatially (rioarray method)\n",
    "ndvi_2016 = (ndvi_ds\n",
    " .sel(date='2016')                      # Specify  period of time to subset\n",
    " .mean('date')                          # Calculate mean NDVI\n",
    ")\n",
    "\n",
    "# Calculate NDVI Difference\n",
    "ndvi_diff = (ndvi_2018-ndvi_2016)\n",
    "\n",
    "# Plot Differenced NDVI Data - use divergent colors - with boudary overlay\n",
    "(ndvi_diff.hvplot(\n",
    "    x='x', y='y',\n",
    "    xlabel='Longitude (decimal degrees)', \n",
    "    ylabel='Latitude (decimal degrees)',\n",
    "    title='Difference in NDVI between summer 2018-2016',\n",
    "    cmap='PiYG',                        # Add _r to colormap name to reverse\n",
    "    geo=True\n",
    ")\n",
    "*\n",
    "eagle_gdf.hvplot(geo=True, fill_color='none')\n",
    ")"
   ]
  },
  {
   "cell_type": "code",
   "execution_count": null,
   "metadata": {},
   "outputs": [],
   "source": [
    "# Get envelop (boundary) of fire boundary polygon\n",
    "out_gdf = gpd.GeoDataFrame(geometry=eagle_gdf.envelope)\n",
    "\n",
    "# Get difference between fire boundary and envelop (geodataframe)\n",
    "out_gdf.overlay(eagle_gdf, how=\"difference\")"
   ]
  },
  {
   "cell_type": "code",
   "execution_count": null,
   "metadata": {},
   "outputs": [],
   "source": [
    "# Clip data boundaries both inside and outside the camp fire area\n",
    "ndvi_fire_ds = ndvi_ds.rio.clip(eagle_gdf.geometry)\n",
    "ndvi_out_ds = ndvi_ds.rio.clip(out_gdf.geometry)\n",
    "\n",
    "# To check that clipping is working, use an individual date\n",
    "# ndvi_ds.rio.clip(camp_gdf.geometry).NDVI.sel(date='2019-05').plot()\n",
    "\n",
    "# Can also check coordinate systems for both datasets\n",
    "# ndvi_ds.rio.crs, camp_gdf.crs"
   ]
  },
  {
   "cell_type": "code",
   "execution_count": null,
   "metadata": {},
   "outputs": [],
   "source": [
    "# Create dataframe with just mean NDVI values per year\n",
    "ndvi_fire_df = (ndvi_fire_ds.groupby(ndvi_fire_ds.date.dt.year)\n",
    " .mean(...).NDVI.to_dataframe()[['NDVI']])\n",
    "\n",
    "ndvi_out_df = (ndvi_out_ds.groupby(ndvi_out_ds.date.dt.year)\n",
    " .mean(...).NDVI.to_dataframe()[['NDVI']])\n",
    "\n",
    "ndvi_fire_df, ndvi_out_df\n",
    "\n",
    "# Get year for all layers in dataset and group by year to get individual years\n",
    "# There are multiple variables in the dataset. When using mean, it needs to \n",
    "# know which variables to collapse. In this case, both x and y.\n",
    "# mean('x', 'y') is simplifed to '...'. Take mean of NDVI and made dataframe\n",
    "# Use [[]]to get rid of extra columns"
   ]
  },
  {
   "cell_type": "code",
   "execution_count": null,
   "metadata": {},
   "outputs": [],
   "source": [
    "# Plot the difference between the area impacted and not impacted by fire\n",
    "(ndvi_fire_df - ndvi_out_df).hvplot(\n",
    "    xlabel='Year', ylabel='dNDVI',\n",
    "    title=\"Difference in NVDI values within and around the Camp fire boundary\"\n",
    ")"
   ]
  },
  {
   "cell_type": "markdown",
   "metadata": {},
   "source": [
    "# Edit this text\n",
    "\n",
    "### Vegetation appears nearly recoverd two years after the Camp fire destroyed most of the area around Paradise, CA. \n",
    "\n",
    " During the fire event, NDVI dropped by nearly 0.08 within the fire boundary area compared the region not impacted by the fire. NDVI values pre- and post-fire show very similar levels; however, these values do not indicate whether the recovery in vegetation is related to growth of scrub or forest. Most likely, this recovery represents \"first growth\" which usually includes flowers, bushes, and other small plants near the forest floor. Several more years will be required for the forest cover to recover."
   ]
  }
 ],
 "metadata": {
  "kernelspec": {
   "display_name": "base",
   "language": "python",
   "name": "python3"
  },
  "language_info": {
   "codemirror_mode": {
    "name": "ipython",
    "version": 3
   },
   "file_extension": ".py",
   "mimetype": "text/x-python",
   "name": "python",
   "nbconvert_exporter": "python",
   "pygments_lexer": "ipython3",
   "version": "3.10.11"
  },
  "orig_nbformat": 4
 },
 "nbformat": 4,
 "nbformat_minor": 2
}
