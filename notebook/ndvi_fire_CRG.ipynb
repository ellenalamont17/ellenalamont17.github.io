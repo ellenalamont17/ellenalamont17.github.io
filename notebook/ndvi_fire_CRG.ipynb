{
 "cells": [
  {
   "cell_type": "markdown",
   "metadata": {},
   "source": [
    "# The 2017 Eagle Creek Fire near Hood River, Oregon covered more than 48,000 acres and devastated more than half of the Oregon side of the Columbia River Gorge.\n",
    "\n",
    "![3D extent of Eagle Creek Fire](https://wildfiretoday.com/wp-content/uploads/2017/09/EagleCr_3D2_730pmPDT_9-5-2017.jpg)\n",
    "\n",
    "Image Source: [Wildfire Today](https://wildfiretoday.com/wp-content/uploads/2017/09/EagleCr_3D2_730pmPDT_9-5-2017.jpg)\n",
    "\n",
    "![Mountains on Fire](https://advancelocal-adapter-image-uploads.s3.amazonaws.com/image.oregonlive.com/home/olive-media/width2048/img/wildfires/photo/eagle-creek-fire-f163f5cfde990cb7.jpg)\n",
    "\n",
    "Image Source: [Oregon Live](https://advancelocal-adapter-image-uploads.s3.amazonaws.com/image.oregonlive.com/home/olive-media/width2048/img/wildfires/photo/eagle-creek-fire-f163f5cfde990cb7.jpg)"
   ]
  },
  {
   "cell_type": "markdown",
   "metadata": {},
   "source": [
    "On a hot and windy fall afternoon on September 2, 2017, two young teens wrecklessly playing with fireworks ignited one of the largest wildfires in northern Oregon's history, descimating near half of the Columbia River Gorge, a famous outdoor recreation area and critical transportation corridor (trains, trucks, and boats).\n",
    "\n",
    "As the fire quickly grew, 152 hikers were trapped by the flames and eventually rescued while the nearby town of Cascade Locks was evacuated. 2.5 days after ignition, the fire had grown to 10,000 acres and traveled nearly 13 miles in approximately 16 hours, fueled by strong winds. By this time, Interstate 84 has been shutdown and the fire jumped an incredible ~1800 ft across the Columbia River and spread into parts of Washington. Through the blaze, nearly 400 homes were evacuated, hundreds of miles of trail and roadway infracture were destroyed, and historic landmarks, such a [Multinomah Falls](https://www.fs.usda.gov/recarea/crgnsa/recarea/?recid=30026), closely threatened.\n",
    "\n",
    "The fire was finally contained at the end of November, nearly two months after it started, but continued to smoulder for another 9-months. While residents were eventually able to return home, the Eagle Creek Trail system remained closed for three years and remains a visible scar on the landscape today. Massive efforts were put into clearing dangerous trees, installing protective fensing, and monitoring for landslide and debris flows. The teen responsible for the fire was sentenced to 1,920 hours of community service with the Forest Service. If this service is not compled in 10 years, the teen will have to pay $36.6 million in restitution."
   ]
  }
 ],
 "metadata": {
  "language_info": {
   "name": "python"
  },
  "orig_nbformat": 4
 },
 "nbformat": 4,
 "nbformat_minor": 2
}
