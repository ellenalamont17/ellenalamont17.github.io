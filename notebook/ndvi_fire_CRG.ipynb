{
 "cells": [
  {
   "cell_type": "markdown",
   "metadata": {},
   "source": [
    "# The 2017 Eagle Creek Fire near Hood River, Oregon covered more than 48,000 acres and devastated more than half of the Oregon side of the Columbia River Gorge.\n",
    "\n",
    "![3D extent of Eagle Creek Fire](https://wildfiretoday.com/wp-content/uploads/2017/09/EagleCr_3D2_730pmPDT_9-5-2017.jpg)\n",
    "\n",
    "Image Source: [Wildfire Today](https://wildfiretoday.com/wp-content/uploads/2017/09/EagleCr_3D2_730pmPDT_9-5-2017.jpg)\n",
    "\n",
    "![Mountains on Fire](https://advancelocal-adapter-image-uploads.s3.amazonaws.com/image.oregonlive.com/home/olive-media/width2048/img/wildfires/photo/eagle-creek-fire-f163f5cfde990cb7.jpg)\n",
    "\n",
    "Image Source: [Oregon Live](https://advancelocal-adapter-image-uploads.s3.amazonaws.com/image.oregonlive.com/home/olive-media/width2048/img/wildfires/photo/eagle-creek-fire-f163f5cfde990cb7.jpg)"
   ]
  },
  {
   "cell_type": "markdown",
   "metadata": {},
   "source": [
    "On a hot and windy fall afternoon on September 2, 2017, two young teens wrecklessly playing with fireworks ignited one of the largest wildfires in northern Oregon's history, descimating near half of the Columbia River Gorge, a famous outdoor recreation area and critical transportation corridor (trains, trucks, and boats).\n",
    "\n",
    "As the fire quickly grew, 152 hikers were trapped by the flames and eventually rescued while the nearby town of Cascade Locks was evacuated. 2.5 days after ignition, the fire had grown to 10,000 acres and traveled nearly 13 miles in approximately 16 hours, fueled by strong winds. By this time, Interstate 84 has been shutdown and the fire jumped an incredible ~1800 ft across the Columbia River and spread into parts of Washington. Through the blaze, nearly 400 homes were evacuated, hundreds of miles of trail and roadway infracture were destroyed, and historic landmarks, such a [Multinomah Falls](https://www.fs.usda.gov/recarea/crgnsa/recarea/?recid=30026), closely threatened.\n",
    "\n",
    "The fire was finally contained at the end of November, nearly two months after it started, but continued to smoulder for another 9-months. A total of 48,000 acres burned in the Eagle Creek Fire. While residents were eventually able to return home, the Eagle Creek Trail system remained closed for three years and remains a visible scar on the landscape today. Massive efforts were put into clearing dangerous trees, installing protective fensing, and monitoring for landslide and debris flows. The teen responsible for the fire was sentenced to 1,920 hours of community service with the Forest Service. If this service is not compled in 10 years, the teen will have to pay $36.6 million in restitution."
   ]
  },
  {
   "cell_type": "code",
   "execution_count": 1,
   "metadata": {},
   "outputs": [
    {
     "ename": "ModuleNotFoundError",
     "evalue": "No module named 'earthpy.appeears'",
     "output_type": "error",
     "traceback": [
      "\u001b[0;31m---------------------------------------------------------------------------\u001b[0m",
      "\u001b[0;31mModuleNotFoundError\u001b[0m                       Traceback (most recent call last)",
      "\u001b[1;32m/workspaces/ellenalamont17.github.io/notebook/ndvi_fire_CRG.ipynb Cell 3\u001b[0m line \u001b[0;36m1\n\u001b[1;32m      <a href='vscode-notebook-cell://codespaces%2Blaughing-dollop-wr7xqpw46pxx25pwx/workspaces/ellenalamont17.github.io/notebook/ndvi_fire_CRG.ipynb#W2sdnNjb2RlLXJlbW90ZQ%3D%3D?line=6'>7</a>\u001b[0m \u001b[39mfrom\u001b[39;00m \u001b[39mglob\u001b[39;00m \u001b[39mimport\u001b[39;00m glob       \u001b[39m# Creates lists of files for batch processing\u001b[39;00m\n\u001b[1;32m      <a href='vscode-notebook-cell://codespaces%2Blaughing-dollop-wr7xqpw46pxx25pwx/workspaces/ellenalamont17.github.io/notebook/ndvi_fire_CRG.ipynb#W2sdnNjb2RlLXJlbW90ZQ%3D%3D?line=8'>9</a>\u001b[0m \u001b[39m# Import third party libraries\u001b[39;00m\n\u001b[0;32m---> <a href='vscode-notebook-cell://codespaces%2Blaughing-dollop-wr7xqpw46pxx25pwx/workspaces/ellenalamont17.github.io/notebook/ndvi_fire_CRG.ipynb#W2sdnNjb2RlLXJlbW90ZQ%3D%3D?line=9'>10</a>\u001b[0m \u001b[39mimport\u001b[39;00m \u001b[39mearthpy\u001b[39;00m\u001b[39m.\u001b[39;00m\u001b[39mappeears\u001b[39;00m \u001b[39mas\u001b[39;00m \u001b[39metapp\u001b[39;00m    \u001b[39m# Plot and manipulate spatial data\u001b[39;00m\n\u001b[1;32m     <a href='vscode-notebook-cell://codespaces%2Blaughing-dollop-wr7xqpw46pxx25pwx/workspaces/ellenalamont17.github.io/notebook/ndvi_fire_CRG.ipynb#W2sdnNjb2RlLXJlbW90ZQ%3D%3D?line=10'>11</a>\u001b[0m \u001b[39mimport\u001b[39;00m \u001b[39mfolium\u001b[39;00m               \u001b[39m# Generate interactive maps\u001b[39;00m\n\u001b[1;32m     <a href='vscode-notebook-cell://codespaces%2Blaughing-dollop-wr7xqpw46pxx25pwx/workspaces/ellenalamont17.github.io/notebook/ndvi_fire_CRG.ipynb#W2sdnNjb2RlLXJlbW90ZQ%3D%3D?line=11'>12</a>\u001b[0m \u001b[39mimport\u001b[39;00m \u001b[39mgeopandas\u001b[39;00m \u001b[39mas\u001b[39;00m \u001b[39mgpd\u001b[39;00m     \u001b[39m# Work with vector files\u001b[39;00m\n",
      "\u001b[0;31mModuleNotFoundError\u001b[0m: No module named 'earthpy.appeears'"
     ]
    }
   ],
   "source": [
    "# Import standard libraries\n",
    "import logging              # Logging of messages\n",
    "import os                   # Handles files and directories\n",
    "import pathlib              # Provides a path class for cross platform use\n",
    "import subprocess           # Run new code by creating new process\n",
    "import warnings             # Show warning triggered by module import\n",
    "from glob import glob       # Creates lists of files for batch processing\n",
    "\n",
    "# Import third party libraries\n",
    "import earthpy.appeears as etapp    # Plot and manipulate spatial data\n",
    "import folium               # Generate interactive maps\n",
    "import geopandas as gpd     # Work with vector files\n",
    "import hvplot.pandas        # Used for plotting data\n",
    "import hvplot.xarray        # Used for plotting maps\n",
    "import numpy as np          # Used for math operations\n",
    "import pandas as pd         # Used for working with tabular data\n",
    "import rioxarray as rxr     # Storage and manipulation of rasters\n",
    "import xarray as xr         # Work with multidimensional arrays\n",
    "\n",
    "# Set up logging so AppeearsDownloader will log in notebook\n",
    "logging.basicConfig(level=logging.INFO)\n",
    "\n",
    "# Ignore FutureWarning coming from hvplot\n",
    "#warnings.simplefilter(action='ignore', category=FutureWarning)"
   ]
  },
  {
   "cell_type": "code",
   "execution_count": null,
   "metadata": {},
   "outputs": [],
   "source": [
    "# Define/create a directory to store and access data\n",
    "\n",
    "camp_prj_dir = os.path.join(\n",
    "    pathlib.Path.home(), 'earth-analytics', 'data', 'camp-fire')\n",
    "# This defines where the directory can be found\n",
    "\n",
    "os.makedirs(camp_prj_dir, exist_ok=True)\n",
    "# This is an instruction to create the directory defined above\n",
    "\n",
    "camp_prj_dir\n",
    "# This prints out the directory path name"
   ]
  },
  {
   "cell_type": "markdown",
   "metadata": {},
   "source": [
    "The API Site for the 2017 Historical Fire Perimeters can be found at:\n",
    "\n",
    "https://data-nifc.opendata.arcgis.com/datasets/historic-perimeters-2017/api"
   ]
  },
  {
   "cell_type": "code",
   "execution_count": 2,
   "metadata": {},
   "outputs": [
    {
     "ename": "NameError",
     "evalue": "name 'gpd' is not defined",
     "output_type": "error",
     "traceback": [
      "\u001b[0;31m---------------------------------------------------------------------------\u001b[0m",
      "\u001b[0;31mNameError\u001b[0m                                 Traceback (most recent call last)",
      "\u001b[1;32m/workspaces/ellenalamont17.github.io/notebook/ndvi_fire_CRG.ipynb Cell 6\u001b[0m line \u001b[0;36m2\n\u001b[1;32m      <a href='vscode-notebook-cell://codespaces%2Blaughing-dollop-wr7xqpw46pxx25pwx/workspaces/ellenalamont17.github.io/notebook/ndvi_fire_CRG.ipynb#W5sdnNjb2RlLXJlbW90ZQ%3D%3D?line=0'>1</a>\u001b[0m \u001b[39m# Access the data from NIFC website\u001b[39;00m\n\u001b[0;32m----> <a href='vscode-notebook-cell://codespaces%2Blaughing-dollop-wr7xqpw46pxx25pwx/workspaces/ellenalamont17.github.io/notebook/ndvi_fire_CRG.ipynb#W5sdnNjb2RlLXJlbW90ZQ%3D%3D?line=1'>2</a>\u001b[0m camp_gdf\u001b[39m=\u001b[39mgpd\u001b[39m.\u001b[39mread_file(\n\u001b[1;32m      <a href='vscode-notebook-cell://codespaces%2Blaughing-dollop-wr7xqpw46pxx25pwx/workspaces/ellenalamont17.github.io/notebook/ndvi_fire_CRG.ipynb#W5sdnNjb2RlLXJlbW90ZQ%3D%3D?line=2'>3</a>\u001b[0m     \u001b[39m\"\u001b[39m\u001b[39mhttps://services3.arcgis.com/T4QMspbfLg3qTGWY/arcgis\u001b[39m\u001b[39m\"\u001b[39m\n\u001b[1;32m      <a href='vscode-notebook-cell://codespaces%2Blaughing-dollop-wr7xqpw46pxx25pwx/workspaces/ellenalamont17.github.io/notebook/ndvi_fire_CRG.ipynb#W5sdnNjb2RlLXJlbW90ZQ%3D%3D?line=3'>4</a>\u001b[0m     \u001b[39m\"\u001b[39m\u001b[39m/rest/services/Historic_Geomac_Perimeters_2017\u001b[39m\u001b[39m\"\u001b[39m\n\u001b[1;32m      <a href='vscode-notebook-cell://codespaces%2Blaughing-dollop-wr7xqpw46pxx25pwx/workspaces/ellenalamont17.github.io/notebook/ndvi_fire_CRG.ipynb#W5sdnNjb2RlLXJlbW90ZQ%3D%3D?line=4'>5</a>\u001b[0m     \u001b[39m\"\u001b[39m\u001b[39m/FeatureServer/0/query?where=incidentname\u001b[39m\u001b[39m%20%\u001b[39;00m\u001b[39m3D\u001b[39m\u001b[39m%\u001b[39m\u001b[39m20\u001b[39m\u001b[39m\"\u001b[39m\n\u001b[1;32m      <a href='vscode-notebook-cell://codespaces%2Blaughing-dollop-wr7xqpw46pxx25pwx/workspaces/ellenalamont17.github.io/notebook/ndvi_fire_CRG.ipynb#W5sdnNjb2RlLXJlbW90ZQ%3D%3D?line=5'>6</a>\u001b[0m     \u001b[39m\"\u001b[39m\u001b[39m'\u001b[39m\u001b[39mEAGLE\u001b[39m\u001b[39m%\u001b[39m\u001b[39m20CREEK\u001b[39m\u001b[39m'\u001b[39m\u001b[39m%\u001b[39m\u001b[39m20AND\u001b[39m\u001b[39m%20la\u001b[39;00m\u001b[39mtest\u001b[39m\u001b[39m%20%\u001b[39;00m\u001b[39m3D\u001b[39m\u001b[39m%\u001b[39m\u001b[39m20\u001b[39m\u001b[39m'\u001b[39m\u001b[39mY\u001b[39m\u001b[39m'\u001b[39m\u001b[39m&outFields=\u001b[39m\u001b[39m\"\u001b[39m\n\u001b[1;32m      <a href='vscode-notebook-cell://codespaces%2Blaughing-dollop-wr7xqpw46pxx25pwx/workspaces/ellenalamont17.github.io/notebook/ndvi_fire_CRG.ipynb#W5sdnNjb2RlLXJlbW90ZQ%3D%3D?line=6'>7</a>\u001b[0m     \u001b[39m\"\u001b[39m\u001b[39m*&outSR=4326&f=json\u001b[39m\u001b[39m\"\u001b[39m\n\u001b[1;32m      <a href='vscode-notebook-cell://codespaces%2Blaughing-dollop-wr7xqpw46pxx25pwx/workspaces/ellenalamont17.github.io/notebook/ndvi_fire_CRG.ipynb#W5sdnNjb2RlLXJlbW90ZQ%3D%3D?line=7'>8</a>\u001b[0m )\n\u001b[1;32m     <a href='vscode-notebook-cell://codespaces%2Blaughing-dollop-wr7xqpw46pxx25pwx/workspaces/ellenalamont17.github.io/notebook/ndvi_fire_CRG.ipynb#W5sdnNjb2RlLXJlbW90ZQ%3D%3D?line=9'>10</a>\u001b[0m camp_gdf\n",
      "\u001b[0;31mNameError\u001b[0m: name 'gpd' is not defined"
     ]
    }
   ],
   "source": [
    "# Access the data from NIFC website\n",
    "camp_gdf=gpd.read_file(\n",
    "    \"https://services3.arcgis.com/T4QMspbfLg3qTGWY/arcgis\"\n",
    "    \"/rest/services/Historic_Geomac_Perimeters_2017\"\n",
    "    \"/FeatureServer/0/query?where=incidentname%20%3D%20\"\n",
    "    \"'EAGLE%20CREEK'%20AND%20latest%20%3D%20'Y'&outFields=\"\n",
    "    \"*&outSR=4326&f=json\"\n",
    ")\n",
    "\n",
    "camp_gdf"
   ]
  }
 ],
 "metadata": {
  "kernelspec": {
   "display_name": "base",
   "language": "python",
   "name": "python3"
  },
  "language_info": {
   "codemirror_mode": {
    "name": "ipython",
    "version": 3
   },
   "file_extension": ".py",
   "mimetype": "text/x-python",
   "name": "python",
   "nbconvert_exporter": "python",
   "pygments_lexer": "ipython3",
   "version": "3.10.11"
  },
  "orig_nbformat": 4
 },
 "nbformat": 4,
 "nbformat_minor": 2
}
