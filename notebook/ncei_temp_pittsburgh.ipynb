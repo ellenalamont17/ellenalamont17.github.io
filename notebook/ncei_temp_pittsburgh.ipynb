{
 "cells": [
  {
   "cell_type": "markdown",
   "metadata": {},
   "source": [
    "# Climate Record for a Pittsburgh, Pennsylvania\n",
    "\n",
    "The goal of this example is to demonstrate the setup of a python notebook,\n",
    "download and clean-up of raw data, use of functions and formulas to convert\n",
    "clean data from a table, and to plot the data in a visual representation.\n",
    "The location can be changed and new data processed and plotted. "
   ]
  },
  {
   "cell_type": "markdown",
   "metadata": {},
   "source": [
    "# About this data\n",
    "\n",
    "**Description - Global Climate at a Glance**\n",
    "The data is compiled at the request of NOAA for near real-time analysis \n",
    "of monthly climatic data (temperature and precipitation) from across the \n",
    "continental United States. Units used vary based upon user preferences \n",
    "(mm or in - precipitation and F or C - temperature). This dataset will \n",
    "use units of Fahrenheit. The period of record varies by station. Data is\n",
    "available for national, regional, state, and city. Data from the Global \n",
    "Historical Climatology Network (GHCN) is a composite of climate records \n",
    "from numerous quality checked and merged sources. \n",
    "https://www.ncei.noaa.gov/pub/data/cdo/documentation/GHCND_documentation.pdf\n",
    "\n",
    "**Data Citation - Pittsburgh, PA City Time Series**\n",
    "NOAA National Centers for Environmental information, Climate at a Glance: \n",
    "City Time Series, published August 2023, retrieved on September 10, 2023 from \n",
    "https://www.ncei.noaa.gov/access/monitoring/climate-at-a-glance/city/time-series\n",
    "\n",
    "The journal article describing GHCN-Daily is: Menne, M.J., I. Durre, R.S. \n",
    "Vose, B.E. Gleason, and T.G. Houston, 2012: An overview of the Global \n",
    "Historical Climatology Network-Daily Database. Journal of Atmospheric and\n",
    "Oceanic Technology, 29, 897-910, doi:10.1175/JTECH-D-11-00103.1.\n",
    "\n",
    "**Site Description - Pittsburgh, Pennsylvania**\n",
    "The data is recorded from a station at the Pittsburgh International Airport \n",
    "for a period from 02-01-1945 to present. The station is located at lat/long \n",
    "40.48459°, -80.21448° and at an elevation of 341 m. Station GHCND:USW00094823 \n",
    "metadata found at: \n",
    "https://www.ncdc.noaa.gov/cdo-web/datasets/GHCND/stations/GHCND:USW00094823/detail"
   ]
  },
  {
   "cell_type": "markdown",
   "metadata": {},
   "source": [
    "# Set up the notebook"
   ]
  },
  {
   "cell_type": "code",
   "execution_count": null,
   "metadata": {},
   "outputs": [],
   "source": [
    "# Importing libraries for tabular data and plotting\n",
    "\n",
    "import hvplot.pandas\n",
    "import pandas as pd"
   ]
  },
  {
   "cell_type": "markdown",
   "metadata": {},
   "source": [
    "# Download and clean-up the Data"
   ]
  },
  {
   "cell_type": "code",
   "execution_count": null,
   "metadata": {},
   "outputs": [],
   "source": [
    "# Define the URL for the Pittsburgh, PA max temperature data download\n",
    "\n",
    "pit_temp_url = (\n",
    "    'https://www.ncei.noaa.gov/access/monitoring/climate-at-a-glance/'\n",
    "    'city/time-series/USW00094823/tmax/1/7/1948-2023.csv?base_prd='\n",
    "    'true&begbaseyear=1991&endbaseyear=2020')\n",
    "\n",
    "pit_temp_url"
   ]
  },
  {
   "cell_type": "code",
   "execution_count": null,
   "metadata": {},
   "outputs": [],
   "source": [
    "# List all current variables\n",
    "\n",
    "%whos"
   ]
  },
  {
   "cell_type": "code",
   "execution_count": null,
   "metadata": {},
   "outputs": [],
   "source": [
    "# Import temperature data for the Pittsburgh, PA from NCEI\n",
    "\n",
    "pit_temp_df = pd.read_csv(pit_temp_url, header=4,\n",
    "                          names=['year', 'temp_f', 'anomaly'])\n",
    "pit_temp_df"
   ]
  },
  {
   "cell_type": "code",
   "execution_count": null,
   "metadata": {},
   "outputs": [],
   "source": [
    "# Extract the year from the date\n",
    "\n",
    "pit_temp_df.year = pd.to_datetime(pit_temp_df.year, format='%Y%m').dt.year\n",
    "pit_temp_df"
   ]
  },
  {
   "cell_type": "markdown",
   "metadata": {},
   "source": [
    "# Convert the data using equations and functions"
   ]
  },
  {
   "cell_type": "code",
   "execution_count": null,
   "metadata": {},
   "outputs": [],
   "source": [
    "# Convert units from Fahrenheit to Celcius (Option #1)\n",
    "# Use a basic equation to convert temperature\n",
    "\n",
    "pit_temp_df['temp_c'] = (pit_temp_df['temp_f'] - 32) * 5 / 9\n",
    "pit_temp_df"
   ]
  },
  {
   "cell_type": "code",
   "execution_count": null,
   "metadata": {},
   "outputs": [],
   "source": [
    "# Convert units from Fahrenheit to CElcius (Options #2)\n",
    "# Assign the Fahrenheit temperature column entry to a variable\n",
    "\n",
    "temperature_f = pit_temp_df['temp_f']\n",
    "\n",
    "\n",
    "# Use a function to convert temperatures Fahrenheit to Celcius\n",
    "\n",
    "def convert_f_to_c(temperature_f):\n",
    "    temperature_c = (temperature_f - 32) * 5 / 9 # Assign result to variable\n",
    "    pit_temp_df['temp_c'] = temperature_c # Write result back into dataframe\n",
    "    return temperature_c\n",
    "\n",
    "\n",
    "# Apply function to each line in the dataframe and return the converted value\n",
    "\n",
    "pit_temp_df['temp_c'] = pit_temp_df['temp_f'].apply(convert_f_to_c)\n",
    "pit_temp_df"
   ]
  },
  {
   "cell_type": "markdown",
   "metadata": {},
   "source": [
    "# Create a visual representation of the data"
   ]
  },
  {
   "cell_type": "code",
   "execution_count": null,
   "metadata": {},
   "outputs": [],
   "source": [
    "# Plot temperature in Fahrenheit by year for Pittsburgh, PA\n",
    "\n",
    "pit_temp_df.hvplot(\n",
    "    x='year', y='temp_f',\n",
    "    title='Max Annual Temperature in Pittsburgh, PA',\n",
    "    xlabel='Year', ylabel='Temperature (°F)')"
   ]
  }
 ],
 "metadata": {
  "kernelspec": {
   "display_name": "base",
   "language": "python",
   "name": "python3"
  },
  "language_info": {
   "codemirror_mode": {
    "name": "ipython",
    "version": 3
   },
   "file_extension": ".py",
   "mimetype": "text/x-python",
   "name": "python",
   "nbconvert_exporter": "python",
   "pygments_lexer": "ipython3",
   "version": "3.10.11"
  },
  "orig_nbformat": 4
 },
 "nbformat": 4,
 "nbformat_minor": 2
}
